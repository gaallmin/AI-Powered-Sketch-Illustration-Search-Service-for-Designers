{
 "cells": [
  {
   "cell_type": "code",
   "execution_count": 3,
   "id": "bd16de6c-ca0f-4ef7-ae21-77484580f7a8",
   "metadata": {},
   "outputs": [],
   "source": [
    "# Use my class\n",
    "import sys\n",
    "sys.path.append(\"../\")\n",
    "from load import Load"
   ]
  },
  {
   "cell_type": "code",
   "execution_count": 6,
   "id": "bdc105e3-d0c1-4e19-b7ef-c2320e251f81",
   "metadata": {},
   "outputs": [],
   "source": [
    "import os\n",
    "import torchvision.transforms as transforms\n",
    "\n",
    "transformer = [\n",
    "    transforms.Resize(256), \n",
    "    transforms.CenterCrop(224),\n",
    "    transforms.ToTensor()]\n",
    "\n",
    "Loader  = Load(transformer)"
   ]
  },
  {
   "cell_type": "code",
   "execution_count": 7,
   "id": "feec1665-1905-4cc3-a163-d0051aad216d",
   "metadata": {},
   "outputs": [
    {
     "name": "stderr",
     "output_type": "stream",
     "text": [
      "D:\\programs\\Anaconda\\envs\\RL_module\\lib\\site-packages\\PIL\\Image.py:959: UserWarning: Palette images with Transparency expressed in bytes should be converted to RGBA images\n",
      "  warnings.warn(\n"
     ]
    },
    {
     "ename": "KeyboardInterrupt",
     "evalue": "",
     "output_type": "error",
     "traceback": [
      "\u001b[1;31m---------------------------------------------------------------------------\u001b[0m",
      "\u001b[1;31mKeyboardInterrupt\u001b[0m                         Traceback (most recent call last)",
      "Cell \u001b[1;32mIn [7], line 1\u001b[0m\n\u001b[1;32m----> 1\u001b[0m total_dataset, total_target \u001b[38;5;241m=\u001b[39m Loader\u001b[38;5;241m.\u001b[39mtensor(\u001b[38;5;124m\"\u001b[39m\u001b[38;5;124m..\u001b[39m\u001b[38;5;130;01m\\\\\u001b[39;00m\u001b[38;5;124mtrain_val_test_dataset\u001b[39m\u001b[38;5;130;01m\\\\\u001b[39;00m\u001b[38;5;124mtrain\u001b[39m\u001b[38;5;130;01m\\\\\u001b[39;00m\u001b[38;5;124m\"\u001b[39m)\n",
      "File \u001b[1;32mD:\\AI_projects\\DCC2022\\jaehyun\\augmentation\\..\\load.py:80\u001b[0m, in \u001b[0;36mLoad.tensor\u001b[1;34m(self, directory)\u001b[0m\n\u001b[0;32m     78\u001b[0m total_dataset \u001b[38;5;241m=\u001b[39m dataset[\u001b[38;5;241m0\u001b[39m][\u001b[38;5;241m0\u001b[39m]\u001b[38;5;241m.\u001b[39munsqueeze(\u001b[38;5;241m0\u001b[39m)\n\u001b[0;32m     79\u001b[0m \u001b[38;5;28;01mfor\u001b[39;00m data_idx \u001b[38;5;129;01min\u001b[39;00m \u001b[38;5;28mrange\u001b[39m(\u001b[38;5;241m1\u001b[39m, \u001b[38;5;28mlen\u001b[39m(dataset)):\n\u001b[1;32m---> 80\u001b[0m     total_dataset \u001b[38;5;241m=\u001b[39m \u001b[43mtorch\u001b[49m\u001b[38;5;241m.\u001b[39mcat(\n\u001b[0;32m     81\u001b[0m             (total_dataset, dataset[data_idx][\u001b[38;5;241m0\u001b[39m]\u001b[38;5;241m.\u001b[39munsqueeze(\u001b[38;5;241m0\u001b[39m)),\n\u001b[0;32m     82\u001b[0m             dim\u001b[38;5;241m=\u001b[39m\u001b[38;5;241m0\u001b[39m)\n\u001b[0;32m     84\u001b[0m \u001b[38;5;28;01mreturn\u001b[39;00m total_dataset, total_targets\n",
      "\u001b[1;31mKeyboardInterrupt\u001b[0m: "
     ]
    }
   ],
   "source": [
    "total_dataset, total_target = Loader.tensor(\"..\\\\train_val_test_dataset\\\\train\\\\\")"
   ]
  },
  {
   "cell_type": "code",
   "execution_count": null,
   "id": "f9a99a65-8c1b-4a8a-86c3-cb76efa6de43",
   "metadata": {},
   "outputs": [],
   "source": [
    "total_dataset = total_dataset.numpy()\n",
    "total_target = total_target.numpy()"
   ]
  },
  {
   "cell_type": "code",
   "execution_count": 2,
   "id": "70a64d4a-16b8-4283-a55d-e23dda80992f",
   "metadata": {},
   "outputs": [
    {
     "data": {
      "text/plain": [
       "'\\nreshaped_X = X.reshape(X.shape[0],-1)\\n\\n#oversampling\\noversample = RandomOverSampler()\\noversampled_X, oversampled_y  = oversample.fit_resample(reshaped_X , y)\\n\\n# reshaping X back to the first dims\\nnew_X = oversampled_X.reshape(-1,28,28,3)\\n'"
      ]
     },
     "execution_count": 2,
     "metadata": {},
     "output_type": "execute_result"
    }
   ],
   "source": [
    "from imblearn.over_sampling import SMOTE\n",
    "\n",
    "sm = SMOTE(random_state=42)\n",
    "\n",
    "'''\n",
    "reshaped_X = X.reshape(X.shape[0],-1)\n",
    "\n",
    "#oversampling\n",
    "oversample = RandomOverSampler()\n",
    "oversampled_X, oversampled_y  = oversample.fit_resample(reshaped_X , y)\n",
    "\n",
    "# reshaping X back to the first dims\n",
    "new_X = oversampled_X.reshape(-1,28,28,3)\n",
    "'''"
   ]
  }
 ],
 "metadata": {
  "kernelspec": {
   "display_name": "Python 3 (ipykernel)",
   "language": "python",
   "name": "python3"
  },
  "language_info": {
   "codemirror_mode": {
    "name": "ipython",
    "version": 3
   },
   "file_extension": ".py",
   "mimetype": "text/x-python",
   "name": "python",
   "nbconvert_exporter": "python",
   "pygments_lexer": "ipython3",
   "version": "3.9.12"
  }
 },
 "nbformat": 4,
 "nbformat_minor": 5
}
